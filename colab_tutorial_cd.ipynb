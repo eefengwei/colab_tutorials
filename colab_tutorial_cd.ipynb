{
  "nbformat": 4,
  "nbformat_minor": 0,
  "metadata": {
    "colab": {
      "provenance": []
    },
    "kernelspec": {
      "name": "python3",
      "display_name": "Python 3"
    },
    "language_info": {
      "name": "python"
    }
  },
  "cells": [
    {
      "cell_type": "markdown",
      "source": [
        "# About the notebook\n",
        "The notebook demonstrates the subtle differences between !cd and %cd commands. For more details, please refer to [my blog](https://) ."
      ],
      "metadata": {
        "id": "Gc02ft35b_QK"
      }
    },
    {
      "cell_type": "markdown",
      "source": [
        "First, let's see where we are using 'pwd' command:"
      ],
      "metadata": {
        "id": "NAG-3Hs6ZoLj"
      }
    },
    {
      "cell_type": "code",
      "source": [
        "!pwd"
      ],
      "metadata": {
        "colab": {
          "base_uri": "https://localhost:8080/"
        },
        "id": "O3EEJfYLZfpB",
        "outputId": "d95520f0-acf8-40a7-9b46-834ffd83d227"
      },
      "execution_count": 6,
      "outputs": [
        {
          "output_type": "stream",
          "name": "stdout",
          "text": [
            "/content/sample_data\n"
          ]
        }
      ]
    },
    {
      "cell_type": "markdown",
      "source": [
        "It's expected that /content is displayed in the cell output. Let's use 'ls -al' command to show the contents of the directory."
      ],
      "metadata": {
        "id": "Tu4Myf4wbi7k"
      }
    },
    {
      "cell_type": "code",
      "source": [
        "!ls -al"
      ],
      "metadata": {
        "colab": {
          "base_uri": "https://localhost:8080/"
        },
        "id": "v3BhLrhtbYIs",
        "outputId": "e86873ad-6d88-43da-de81-76d22e4e2b6f"
      },
      "execution_count": null,
      "outputs": [
        {
          "output_type": "stream",
          "name": "stdout",
          "text": [
            "total 16\n",
            "drwxr-xr-x 1 root root 4096 May 25 13:42 .\n",
            "drwxr-xr-x 1 root root 4096 May 28 03:27 ..\n",
            "drwxr-xr-x 4 root root 4096 May 25 13:41 .config\n",
            "drwxr-xr-x 1 root root 4096 May 25 13:42 sample_data\n"
          ]
        }
      ]
    },
    {
      "cell_type": "markdown",
      "source": [
        "## %cd command\n",
        "Here, we know that there's a directory called **sample_data** in current path. Let's navigate to this folder using %cd and see what happens..."
      ],
      "metadata": {
        "id": "adc6JxgHdVE_"
      }
    },
    {
      "cell_type": "code",
      "source": [
        "%cd sample_data"
      ],
      "metadata": {
        "colab": {
          "base_uri": "https://localhost:8080/"
        },
        "id": "AQChBeDOa_R_",
        "outputId": "91ce7bf5-d12e-4530-98bf-40aee9cca9c8"
      },
      "execution_count": 9,
      "outputs": [
        {
          "output_type": "stream",
          "name": "stdout",
          "text": [
            "/content/sample_data\n"
          ]
        }
      ]
    },
    {
      "cell_type": "markdown",
      "source": [
        "Now, we are in the /content/sample_data directory. So our current path is:"
      ],
      "metadata": {
        "id": "YHs3Gg1Jiz36"
      }
    },
    {
      "cell_type": "code",
      "source": [
        "!pwd"
      ],
      "metadata": {
        "colab": {
          "base_uri": "https://localhost:8080/"
        },
        "id": "E1E8zduJjCIy",
        "outputId": "c48eb78f-85cf-412e-d236-053a232ad57e"
      },
      "execution_count": 11,
      "outputs": [
        {
          "output_type": "stream",
          "name": "stdout",
          "text": [
            "/content/sample_data\n"
          ]
        }
      ]
    },
    {
      "cell_type": "markdown",
      "source": [
        "Until now, I believe that the results are what we're expecting. Let's move on and try !cd command."
      ],
      "metadata": {
        "id": "SEWnZ27rjI3r"
      }
    },
    {
      "cell_type": "markdown",
      "source": [
        "Before that, let's navigate back to where we start."
      ],
      "metadata": {
        "id": "t8qKeocfjk-_"
      }
    },
    {
      "cell_type": "code",
      "source": [
        "%cd /content/"
      ],
      "metadata": {
        "colab": {
          "base_uri": "https://localhost:8080/"
        },
        "id": "QDU_P2EhipEG",
        "outputId": "07a1ddd0-30ad-4260-cf9f-9e01137fb481"
      },
      "execution_count": 14,
      "outputs": [
        {
          "output_type": "stream",
          "name": "stdout",
          "text": [
            "/content\n"
          ]
        }
      ]
    },
    {
      "cell_type": "markdown",
      "source": [
        "## !cd command"
      ],
      "metadata": {
        "id": "3XmhcgQ7kG7Z"
      }
    },
    {
      "cell_type": "markdown",
      "source": [
        "Let's double check where we are using 'pwd'."
      ],
      "metadata": {
        "id": "BFfk3skfknlC"
      }
    },
    {
      "cell_type": "code",
      "source": [
        "!pwd"
      ],
      "metadata": {
        "colab": {
          "base_uri": "https://localhost:8080/"
        },
        "id": "tUem3YA3keHL",
        "outputId": "5c58ed4a-f3fd-4071-dc0c-c1825172830e"
      },
      "execution_count": 15,
      "outputs": [
        {
          "output_type": "stream",
          "name": "stdout",
          "text": [
            "/content\n"
          ]
        }
      ]
    },
    {
      "cell_type": "markdown",
      "source": [
        "Try '!cd' this time:"
      ],
      "metadata": {
        "id": "-F02IXx3kyOq"
      }
    },
    {
      "cell_type": "code",
      "source": [
        "!cd sample_data"
      ],
      "metadata": {
        "id": "aQA6GEIxjjES"
      },
      "execution_count": 16,
      "outputs": []
    },
    {
      "cell_type": "markdown",
      "source": [
        "Again, let's print the current path using 'pwd'. What do you expect will be printed in the cell output?"
      ],
      "metadata": {
        "id": "9mmEB5Elk-LJ"
      }
    },
    {
      "cell_type": "code",
      "source": [
        "!pwd"
      ],
      "metadata": {
        "colab": {
          "base_uri": "https://localhost:8080/"
        },
        "id": "dQ1gCiJrlfaE",
        "outputId": "318dd6ae-745f-4b55-8dcd-38f609b0573e"
      },
      "execution_count": 17,
      "outputs": [
        {
          "output_type": "stream",
          "name": "stdout",
          "text": [
            "/content\n"
          ]
        }
      ]
    },
    {
      "cell_type": "markdown",
      "source": [
        "Aha, Quite wierd!!! **Current path is '/content', not '/content/sample_data/' we expect...** \n",
        "\n",
        "More experiments:"
      ],
      "metadata": {
        "id": "eQn4ivCtljFv"
      }
    },
    {
      "cell_type": "code",
      "execution_count": 19,
      "metadata": {
        "colab": {
          "base_uri": "https://localhost:8080/"
        },
        "id": "H-4bcosoweAk",
        "outputId": "d9a41d48-2922-461f-c947-fb55d98117db"
      },
      "outputs": [
        {
          "output_type": "stream",
          "name": "stdout",
          "text": [
            "/content/sample_data\n"
          ]
        }
      ],
      "source": [
        "!cd sample_data && pwd"
      ]
    },
    {
      "cell_type": "markdown",
      "source": [
        "This time we get /content/sample_data again."
      ],
      "metadata": {
        "id": "f8mfaX2dnHA3"
      }
    },
    {
      "cell_type": "code",
      "source": [
        "!pwd"
      ],
      "metadata": {
        "colab": {
          "base_uri": "https://localhost:8080/"
        },
        "id": "Pu8a8AOVwk_J",
        "outputId": "5774d753-1084-4d34-8ea1-d97814943ff0"
      },
      "execution_count": 23,
      "outputs": [
        {
          "output_type": "stream",
          "name": "stdout",
          "text": [
            "/content\n"
          ]
        }
      ]
    },
    {
      "cell_type": "markdown",
      "source": [
        "## Reason\n",
        "The reason behind is that, the iPython intepreter takes the whole line after ! as a linux shell command and runs it. The directory change action **only** takes into effects (/content/sample_data) when the shell command is running. \n",
        "After that, the intepreter will reset the current path to its **original** one (/content/) before shell command executing. "
      ],
      "metadata": {
        "id": "DiiMWTyunPD9"
      }
    },
    {
      "cell_type": "markdown",
      "source": [
        "Let's try more:"
      ],
      "metadata": {
        "id": "bcayfsw4pD0P"
      }
    },
    {
      "cell_type": "code",
      "source": [
        "!echo \"cd sample_data\"\n",
        "!cd sample_data && pwd && ls -al\n",
        "\n",
        "!echo '/root'\n",
        "!cd /root/ && pwd && ls -al\n",
        "\n",
        "!echo 'print current diretory:'\n",
        "!pwd"
      ],
      "metadata": {
        "id": "ez7dsP86xApM",
        "colab": {
          "base_uri": "https://localhost:8080/"
        },
        "outputId": "c51c5a04-a4bc-4497-9f49-9a5e8189045a"
      },
      "execution_count": 26,
      "outputs": [
        {
          "output_type": "stream",
          "name": "stdout",
          "text": [
            "cd sample_data\n",
            "/content/sample_data\n",
            "total 55512\n",
            "drwxr-xr-x 1 root root     4096 May 25 13:42 .\n",
            "drwxr-xr-x 1 root root     4096 May 25 13:42 ..\n",
            "-rwxr-xr-x 1 root root     1697 Jan  1  2000 anscombe.json\n",
            "-rw-r--r-- 1 root root   301141 May 25 13:42 california_housing_test.csv\n",
            "-rw-r--r-- 1 root root  1706430 May 25 13:42 california_housing_train.csv\n",
            "-rw-r--r-- 1 root root 18289443 May 25 13:42 mnist_test.csv\n",
            "-rw-r--r-- 1 root root 36523880 May 25 13:42 mnist_train_small.csv\n",
            "-rwxr-xr-x 1 root root      930 Jan  1  2000 README.md\n",
            "/root\n",
            "/root\n",
            "total 64\n",
            "drwx------ 1 root root 4096 May 25 14:00 .\n",
            "drwxr-xr-x 1 root root 4096 May 28 03:27 ..\n",
            "-r-xr-xr-x 1 root root 1169 Jan  1  2000 .bashrc\n",
            "drwxr-xr-x 1 root root 4096 May 25 14:00 .cache\n",
            "drwx------ 4 root root 4096 May 25 13:59 .config\n",
            "drwxr-xr-x 1 root root 4096 May 25 13:58 .ipython\n",
            "drwx------ 2 root root 4096 May 25 13:58 .jupyter\n",
            "drwxr-xr-x 2 root root 4096 May 25 13:54 .keras\n",
            "drwxr-xr-x 1 root root 4096 May 25 13:58 .local\n",
            "drwxr-xr-x 4 root root 4096 May 25 13:58 .npm\n",
            "-rw-r--r-- 1 root root  161 Dec  5  2019 .profile\n",
            "-r-xr-xr-x 1 root root  254 Jan  1  2000 .tmux.conf\n",
            "-rw-r--r-- 1 root root  165 May 25 13:58 .wget-hsts\n",
            "print current diretory:\n",
            "/content\n"
          ]
        }
      ]
    },
    {
      "cell_type": "markdown",
      "source": [
        "# Summary\n",
        "\n",
        "\n",
        "*   %cd command will **perminantly** and explictly change the current path.\n",
        "*   !cd command **ONLY** temporarily changes the current path during the one line shell script is running. After that, the IPython intepreter will **inplictly** change back to the 'original' directory. I think it's very convinient that you only want to go to some directory, do some work and go back to the 'original' directory again.\n",
        "\n",
        "So in the Google colab, you should pay more attention to this subtle difference between '!cd' and '%cd'. You can always use '!pwd' command to print and make sure the current path is what you expect.\n"
      ],
      "metadata": {
        "id": "fWksxSCvqYuV"
      }
    },
    {
      "cell_type": "markdown",
      "source": [
        "# Futher Reading"
      ],
      "metadata": {
        "id": "I-8DkcRTr_NJ"
      }
    },
    {
      "cell_type": "markdown",
      "source": [
        "## '!' (exclamation mark)\n",
        "\n",
        "When used in a code cell, the exclamation mark allows you to run shell commands directly from the notebook.\n",
        "\n",
        "For example, if you want to list the files in the current directory, you can execute !ls (on Linux/Mac) or !dir (on Windows).    \n",
        "\n",
        "The output of the shell command will be displayed in the notebook cell."
      ],
      "metadata": {
        "id": "GzhZZxgFY6MK"
      }
    },
    {
      "cell_type": "markdown",
      "source": [
        "### '%' (Percent Sign):\n",
        "\n",
        "The percent sign is used to execute \"magic commands\" in \n",
        "\n",
        "*   IPython/Jupyter notebook. Magic commands are designed to provide convenient shortcuts and additional functionality.\n",
        "\n",
        "*   Magic commands are prefixed with a single percent sign % and are used to perform various operations.\n",
        "\n",
        "*  For example, %run is a magic command used to run Python scripts in the notebook, %timeit is used to measure the execution time of a code snippet, and %matplotlib inline is used to enable inline plotting.\n",
        "\n",
        "*  Magic commands can be used both in code cells and in line-specific cells (cells that start with %% followed by the command).\n"
      ],
      "metadata": {
        "id": "Cm7v0adXhYsu"
      }
    },
    {
      "cell_type": "code",
      "source": [],
      "metadata": {
        "id": "J-maKRkLsGPZ"
      },
      "execution_count": null,
      "outputs": []
    }
  ]
}